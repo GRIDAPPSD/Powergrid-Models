{
 "cells": [
  {
   "cell_type": "code",
   "execution_count": 1,
   "metadata": {},
   "outputs": [],
   "source": [
    "import os\n",
    "import json\n",
    "import shutil\n",
    "import subprocess"
   ]
  },
  {
   "cell_type": "code",
   "execution_count": 2,
   "metadata": {},
   "outputs": [],
   "source": [
    "import opendssdirect as dss"
   ]
  },
  {
   "cell_type": "code",
   "execution_count": 3,
   "metadata": {},
   "outputs": [],
   "source": [
    "from cimgraph.databases import XMLFile, ConnectionParameters, BlazegraphConnection\n",
    "from cimgraph.models import FeederModel\n",
    "\n"
   ]
  },
  {
   "cell_type": "code",
   "execution_count": 4,
   "metadata": {},
   "outputs": [],
   "source": [
    "from cimtopology.distribution import create_distributed_feeder"
   ]
  },
  {
   "cell_type": "code",
   "execution_count": 5,
   "metadata": {},
   "outputs": [],
   "source": [
    "# from cimloader.databases import ConnectionParameters, BlazegraphConnection"
   ]
  },
  {
   "cell_type": "code",
   "execution_count": 6,
   "metadata": {},
   "outputs": [],
   "source": [
    "from cimbuilder.feeder_builder.insert_measurements import create_all_discrete_measurements\n",
    "from cimbuilder.feeder_builder.insert_measurements import create_all_analog_measurements\n",
    "from cimbuilder.feeder_builder import insert_measurements\n",
    "# from cimbuilder.feeder_builder import insert_houses\n",
    "# from cimbuilder.feeder_builder import dss_to_cim"
   ]
  },
  {
   "cell_type": "code",
   "execution_count": 7,
   "metadata": {},
   "outputs": [],
   "source": [
    "import cimgraph.data_profile.cimhub_2023 as cim\n",
    "import cimgraph.utils as utils"
   ]
  },
  {
   "cell_type": "code",
   "execution_count": 8,
   "metadata": {},
   "outputs": [],
   "source": [
    "base_path = './models/feeders/OpenDSS'"
   ]
  },
  {
   "cell_type": "code",
   "execution_count": null,
   "metadata": {},
   "outputs": [
    {
     "ename": "",
     "evalue": "",
     "output_type": "error",
     "traceback": [
      "\u001b[1;31mThe Kernel crashed while executing code in the current cell or a previous cell. \n",
      "\u001b[1;31mPlease review the code in the cell(s) to identify a possible cause of the failure. \n",
      "\u001b[1;31mClick <a href='https://aka.ms/vscodeJupyterKernelCrash'>here</a> for more info. \n",
      "\u001b[1;31mView Jupyter <a href='command:jupyter.viewOutput'>log</a> for further details."
     ]
    }
   ],
   "source": [
    "# import requests\n",
    "# import json\n",
    "# url = 'https://github.com/GRIDAPPSD/CIMHub/blob/feature/SETO/src_python/cimhub/eia_recs/housing_data.json'\n",
    "# try:\n",
    "#     # Send a GET request to the URL\n",
    "#     response = requests.get(url)\n",
    "    \n",
    "#     # Check if the request was successful\n",
    "#     response.raise_for_status()\n",
    "    \n",
    "#     # Load the JSON data from the response\n",
    "#     housing_data = response.json()\n",
    "    \n",
    "#     # Process the JSON data as needed\n",
    "#     print(\"Successfully read JSON data:\")\n",
    "#     print(json.dumps(housing_data, indent=4))  # Pretty print the JSON data\n",
    "    \n",
    "#     # return data\n",
    "# except requests.exceptions.RequestException as e:\n",
    "#     print(f\"HTTP request error: {e}\")\n",
    "# except json.JSONDecodeError as e:\n",
    "#     print(f\"JSON decoding error: {e}\")"
   ]
  },
  {
   "cell_type": "code",
   "execution_count": null,
   "metadata": {},
   "outputs": [
    {
     "name": "stdout",
     "output_type": "stream",
     "text": [
      "Parsed CIM XML for feeder ACEP_PSIL.\n"
     ]
    }
   ],
   "source": [
    "url = \"http://localhost:8889/bigdata/namespace/kb/sparql\"\n",
    "\n",
    "cim_profile='cimhub_2023'\n",
    "\n",
    "ver_301 = 8\n",
    "\n",
    "\n",
    "# Walk through all subdirectories of the given base_path\n",
    "for root, dirs, files in os.walk(base_path):\n",
    "    if 'convert.json' in files:\n",
    "        # Construct the complete path to the convert.json file\n",
    "        json_path = os.path.join(root, 'convert.json')\n",
    "        # try:\n",
    "            # Open and read the convert.json file\n",
    "        with open(json_path, 'r') as json_file:\n",
    "            convert_options = json.load(json_file)\n",
    "\n",
    "            output_dir = './models/feeders/CIM/XML' + root.split('OpenDSS')[1]\n",
    "\n",
    "            # try:\n",
    "            master = convert_options['master']\n",
    "            fdr = convert_options['feeder']\n",
    "            sub = convert_options['substation']\n",
    "            sub_geo = convert_options['sub_geo_region']\n",
    "            geo = convert_options['geo_region']\n",
    "            distributed = convert_options['distributed']\n",
    "            meas = convert_options['insert_measurements']\n",
    "            houses = convert_options['insert_houses']\n",
    "\n",
    "            master_file = root + '/' + master\n",
    "            \n",
    "            dss.Command(\"Clear\")\n",
    "            dss.Command(f\"Redirect {master_file}\")\n",
    "            dss.Solution.Solve()\n",
    "            # Import persistent mRIDs if specified\n",
    "\n",
    "            if convert_options['uuids'] is not None:\n",
    "                uuid_file = root + '/' + convert_options['uuids']\n",
    "                dss.Command(f\"uuids file = {uuid_file}\")\n",
    "                dss.Command(f\"export cim100 fid={fdr} substation={sub} subgeo={sub_geo} geo={geo} file=Master.xml\")\n",
    "            else:\n",
    "                # dss.Command(f\"export cim100 fid={fdr} substation={sub} subgeo={sub_geo} geo={geo} file=Master.xml\")\n",
    "                dss.Command('export cim100')\n",
    "    \n",
    "                \n",
    "            # Convert to CIM XML\n",
    "            # dss.Command(f\"export cim100 fid={fdr} substation={sub} subgeo={sub_geo} geo={geo} file=Master.xml\")\n",
    "            # print(f'Created CIM XML for feeder {master.split(\"dss\")[0]}')\n",
    "\n",
    "            # if not os.path.isdir(output_dir):\n",
    "            #     os.makedirs(output_dir, exist_ok=True)\n",
    "            #     shutil.move('Master.xml', output_dir)\n",
    "            #     subprocess.call([\"curl\", \"-s\", \"-D-\", \"-H\", \"Content-Type: application/xml\", \"--upload-file\", f\"{output_dir}/Master.xml\", \"-X\", \"Post\", url])\n",
    "\n",
    "    \n",
    "        \n",
    "            # params = ConnectionParameters(url = url, cim_profile=cim_profile, iec61970_301=ver_301)\n",
    "\n",
    "            # blazegraph = BlazegraphConnection(params)\n",
    "            # feeder = cim.Feeder(mRID = fdr)\n",
    "            # feeder_model = FeederModel(connection=blazegraph, container=feeder, distributed=False)\n",
    "            print(f'Parsed CIM XML for feeder {master.split(\"dss\")[0]}')\n",
    "            # if distributed:\n",
    "            #     # create_distributed_feeder(feeder_model, output_dir+'/distributed.xml')\n",
    "            #     print(f'Created Distributed Topology for feeder {master.split(\"dss\")[0]}')\n",
    "\n",
    "            # if insert_measurements:\n",
    "            #     discretes = create_all_discrete_measurements(feeder_model)\n",
    "            #     # utils.write_xml(discretes, output_dir+'/discretes.xml')\n",
    "\n",
    "            #     analogs = create_all_analog_measurements(feeder_model)\n",
    "            #     utils.write_xml(analogs, output_dir+'/measurements.xml')\n",
    "\n",
    "            # # if insert_houses:\n",
    "            # #     pass\n",
    "\n",
    "            # del feeder_model\n",
    "\n",
    "            # except:\n",
    "            #     print(f'Unable to create CIM XML for feeder {master}')\n",
    "\n",
    "\n",
    "\n",
    "\n",
    "\n",
    "            # Process the data as needed\n",
    "            # print(f\"Successfully read {json_path}\")\n",
    "            # print(data) # Example: print the data\n",
    "    # except Exception as e:\n",
    "    #     print(f\"Error reading {json_path}: {e}\")"
   ]
  },
  {
   "cell_type": "code",
   "execution_count": null,
   "metadata": {},
   "outputs": [],
   "source": [
    "output_dir"
   ]
  },
  {
   "cell_type": "code",
   "execution_count": null,
   "metadata": {},
   "outputs": [],
   "source": []
  }
 ],
 "metadata": {
  "kernelspec": {
   "display_name": ".venv",
   "language": "python",
   "name": "python3"
  },
  "language_info": {
   "codemirror_mode": {
    "name": "ipython",
    "version": 3
   },
   "file_extension": ".py",
   "mimetype": "text/x-python",
   "name": "python",
   "nbconvert_exporter": "python",
   "pygments_lexer": "ipython3",
   "version": "3.10.12"
  }
 },
 "nbformat": 4,
 "nbformat_minor": 2
}
